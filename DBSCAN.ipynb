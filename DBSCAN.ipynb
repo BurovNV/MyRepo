{
  "cells": [
    {
      "cell_type": "markdown",
      "metadata": {
        "colab_type": "text",
        "id": "view-in-github"
      },
      "source": [
        "<a href=\"https://colab.research.google.com/github/BurovNV/MyRepo/blob/main/DBSCAN.ipynb\" target=\"_parent\"><img src=\"https://colab.research.google.com/assets/colab-badge.svg\" alt=\"Open In Colab\"/></a>"
      ]
    },
    {
      "cell_type": "markdown",
      "metadata": {},
      "source": [
        "Требует подбора параметров чтобы точки не ушли в шум или кластеры не слились в один"
      ]
    },
    {
      "cell_type": "code",
      "execution_count": 9,
      "metadata": {
        "id": "m_8wILkA8BcW"
      },
      "outputs": [],
      "source": [
        "# импорт библиотек\n",
        "from sklearn import datasets\n",
        "from sklearn.preprocessing import StandardScaler\n",
        "from sklearn.cluster import DBSCAN \n",
        "import matplotlib.pyplot as plt\n",
        "%matplotlib inline"
      ]
    },
    {
      "cell_type": "code",
      "execution_count": 3,
      "metadata": {
        "colab": {
          "base_uri": "https://localhost:8080/",
          "height": 266
        },
        "id": "ihInOa-38L9A",
        "outputId": "993589df-460b-417d-9cc6-47f90757d456"
      },
      "outputs": [
        {
          "data": {
            "image/png": "[encoded data removed]",
            "text/plain": [
              "<Figure size 432x288 with 1 Axes>"
            ]
          },
          "metadata": {
            "needs_background": "light"
          },
          "output_type": "display_data"
        }
      ],
      "source": [
        "# создание данных - очень размытые\n",
        "x, y = datasets.make_blobs(n_samples=21,\n",
        "                           random_state=0)\n",
        "plt.scatter(x[:, 0], x[:, 1], c=y);"
      ]
    },
    {
      "cell_type": "code",
      "execution_count": 4,
      "metadata": {
        "id": "Aq7hjey59C-R"
      },
      "outputs": [],
      "source": [
        "# функция для обучения\n",
        "def db(x, n, eps):\n",
        "  db = DBSCAN(eps=eps,        # расстояние эпсилон\n",
        "              min_samples=n)  # минимум точек в окрестности\n",
        "  scaler = StandardScaler()\n",
        "  x_std = scaler.fit_transform(x)              \n",
        "  x_std = db.fit_predict(x_std)\n",
        "  return x_std"
      ]
    },
    {
      "cell_type": "code",
      "execution_count": 5,
      "metadata": {
        "colab": {
          "base_uri": "https://localhost:8080/"
        },
        "id": "4laEl7gs95r6",
        "outputId": "f672ffbc-b0a6-4f4e-f1d9-a128d8e3163f"
      },
      "outputs": [
        {
          "name": "stdout",
          "output_type": "stream",
          "text": [
            "[-1 -1 -1 -1 -1 -1 -1 -1 -1 -1 -1 -1  0 -1 -1 -1  0 -1 -1 -1 -1]\n"
          ]
        }
      ],
      "source": [
        "# пробный вызов - почти все точки ушли в шум(-1)\n",
        "print(db(x, 2, 0.1))"
      ]
    },
    {
      "cell_type": "code",
      "execution_count": 6,
      "metadata": {
        "colab": {
          "base_uri": "https://localhost:8080/"
        },
        "id": "5GGvlzGH-nJ4",
        "outputId": "5983730b-22e4-4e37-e53e-c053723a9255"
      },
      "outputs": [
        {
          "name": "stdout",
          "output_type": "stream",
          "text": [
            "[ 0  1  2  3  4  5  6  7  8  9 10 11 12 13 14 15 16 17 18 19 20]\n"
          ]
        }
      ],
      "source": [
        "# а теперь все точки по отдельным кластерам\n",
        "print(db(x, 1, 0.01))"
      ]
    },
    {
      "cell_type": "code",
      "execution_count": 7,
      "metadata": {
        "colab": {
          "base_uri": "https://localhost:8080/"
        },
        "id": "8PxGcIQd-zjR",
        "outputId": "928b6587-5188-4e9a-b80a-60b2534454a4"
      },
      "outputs": [
        {
          "name": "stdout",
          "output_type": "stream",
          "text": [
            "[ 0  1  0  0  2 -1  1  1 -1 -1  2  1  2 -1  1  1  2 -1  2  1 -1]\n"
          ]
        }
      ],
      "source": [
        "# более менее\n",
        "print(db(x, 2, 0.6))"
      ]
    },
    {
      "cell_type": "code",
      "execution_count": 8,
      "metadata": {
        "colab": {
          "base_uri": "https://localhost:8080/",
          "height": 266
        },
        "id": "UoW20yRr-8m8",
        "outputId": "76f6c97c-655f-4d5c-acac-7ff79e5ed41c"
      },
      "outputs": [
        {
          "data": {
            "image/png": "[encoded data removed]",
            "text/plain": [
              "<Figure size 432x288 with 1 Axes>"
            ]
          },
          "metadata": {
            "needs_background": "light"
          },
          "output_type": "display_data"
        }
      ],
      "source": [
        "# визуально, фиолетовые точки - без класса (шум)\n",
        "plt.scatter(x[:, 0], x[:, 1], c=db(x, 2, 0.6));"
      ]
    },
    {
      "cell_type": "code",
      "execution_count": null,
      "metadata": {
        "id": "lvBTvmfR_eQI"
      },
      "outputs": [],
      "source": []
    }
  ],
  "metadata": {
    "colab": {
      "authorship_tag": "ABX9TyMtCdiyjAyoD9HLkSnGMDiU",
      "collapsed_sections": [],
      "include_colab_link": true,
      "name": "DBSCAN.ipynb",
      "provenance": []
    },
    "kernelspec": {
      "display_name": "Python 3",
      "name": "python3"
    },
    "language_info": {
      "codemirror_mode": {
        "name": "ipython",
        "version": 3
      },
      "file_extension": ".py",
      "mimetype": "text/x-python",
      "name": "python",
      "nbconvert_exporter": "python",
      "pygments_lexer": "ipython3",
      "version": "3.8.8"
    }
  },
  "nbformat": 4,
  "nbformat_minor": 0
}
