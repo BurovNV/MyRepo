{
  "nbformat": 4,
  "nbformat_minor": 0,
  "metadata": {
    "colab": {
      "name": "Clust_Локоть.ipynb",
      "provenance": [],
      "collapsed_sections": [],
      "authorship_tag": "ABX9TyNifmbCoi62vcfG25Fr794a",
      "include_colab_link": true
    },
    "kernelspec": {
      "name": "python3",
      "display_name": "Python 3"
    },
    "language_info": {
      "name": "python"
    }
  },
  "cells": [
    {
      "cell_type": "markdown",
      "metadata": {
        "id": "view-in-github",
        "colab_type": "text"
      },
      "source": [
        "<a href=\"https://colab.research.google.com/github/BurovNV/MyRepo/blob/main/Clust_%D0%9B%D0%BE%D0%BA%D0%BE%D1%82%D1%8C.ipynb\" target=\"_parent\"><img src=\"https://colab.research.google.com/assets/colab-badge.svg\" alt=\"Open In Colab\"/></a>"
      ]
    },
    {
      "cell_type": "code",
      "metadata": {
        "id": "JXj1RbF7_3QR"
      },
      "source": [
        "# импорт библиотек\n",
        "from sklearn import datasets\n",
        "from sklearn.preprocessing import StandardScaler\n",
        "from sklearn.cluster import KMeans\n",
        "import matplotlib.pyplot as plt\n",
        "%matplotlib inline"
      ],
      "execution_count": 6,
      "outputs": []
    },
    {
      "cell_type": "code",
      "metadata": {
        "id": "gPuaS4ySQIp0"
      },
      "source": [
        "# загрузка данных, столбец target не грузим!\n",
        "iris = datasets.load_iris()\n",
        "data = iris.data"
      ],
      "execution_count": 2,
      "outputs": []
    },
    {
      "cell_type": "code",
      "metadata": {
        "id": "9VVP_FxfQkQV"
      },
      "source": [
        "# стандартизация признаков со средним 0 и std 1\n",
        "scaler = StandardScaler()\n",
        "data_std = scaler.fit_transform(data)"
      ],
      "execution_count": 3,
      "outputs": []
    },
    {
      "cell_type": "code",
      "metadata": {
        "id": "QwERZLBQd4Lz"
      },
      "source": [
        "# итеративно обучим модели с разным кол-вом кластеров\n",
        "dist = []\n",
        "for i in range(1, 11):\n",
        "  # создание экземпляра кластеризатора\n",
        "  cluster = KMeans(n_clusters=i,   # кол-во центроидов\n",
        "                init='k-means++',  # улучшенный алгоритм\n",
        "                random_state=42,   # зерно\n",
        "                n_jobs=-1)         # кол-во ядер процессора\n",
        "  cluster.fit(data_std)\n",
        "  dist.append(cluster.inertia_)"
      ],
      "execution_count": 4,
      "outputs": []
    },
    {
      "cell_type": "code",
      "metadata": {
        "colab": {
          "base_uri": "https://localhost:8080/",
          "height": 279
        },
        "id": "QskacPHpeeuj",
        "outputId": "6430885a-9f03-447f-e420-9f90c0a03570"
      },
      "source": [
        "# печать графика локтя\n",
        "plt.plot(range(1, 11), dist, marker='o')\n",
        "plt.xlabel('Кол-во кластеров')\n",
        "plt.ylabel('Инерция (искажение)')\n",
        "plt.show()"
      ],
      "execution_count": 11,
      "outputs": [
        {
          "output_type": "display_data",
          "data": {
            "image/png": "[encoded data removed]",
            "text/plain": [
              "<Figure size 432x288 with 1 Axes>"
            ]
          },
          "metadata": {
            "tags": [],
            "needs_background": "light"
          }
        }
      ]
    },
    {
      "cell_type": "markdown",
      "metadata": {
        "id": "fbysMDjrfMNO"
      },
      "source": [
        "Как видно на результирующем графике, локоть находится в точке k = 3,  свидетельствуя о том, что k = 3  - хороший выбор для этого набора данных."
      ]
    },
    {
      "cell_type": "code",
      "metadata": {
        "id": "PxGr0u3wfdBb"
      },
      "source": [
        ""
      ],
      "execution_count": null,
      "outputs": []
    }
  ]
}