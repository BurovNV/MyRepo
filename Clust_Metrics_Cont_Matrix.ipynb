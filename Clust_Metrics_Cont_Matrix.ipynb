{
  "nbformat": 4,
  "nbformat_minor": 0,
  "metadata": {
    "colab": {
      "name": "Clust_Metrics_Cont_Matrix.ipynb",
      "provenance": [],
      "collapsed_sections": [],
      "authorship_tag": "ABX9TyMMdVbYRcI4b0Wg/uEzRMZ7",
      "include_colab_link": true
    },
    "kernelspec": {
      "name": "python3",
      "display_name": "Python 3"
    },
    "language_info": {
      "name": "python"
    }
  },
  "cells": [
    {
      "cell_type": "markdown",
      "metadata": {
        "id": "view-in-github",
        "colab_type": "text"
      },
      "source": [
        "<a href=\"https://colab.research.google.com/github/BurovNV/MyRepo/blob/main/Clust_Metrics_Cont_Matrix.ipynb\" target=\"_parent\"><img src=\"https://colab.research.google.com/assets/colab-badge.svg\" alt=\"Open In Colab\"/></a>"
      ]
    },
    {
      "cell_type": "code",
      "metadata": {
        "id": "Yg0aj7FOJPXJ"
      },
      "source": [
        "from sklearn.metrics.cluster import contingency_matrix"
      ],
      "execution_count": 1,
      "outputs": []
    },
    {
      "cell_type": "code",
      "metadata": {
        "id": "2AJUbJIFJQP9"
      },
      "source": [
        "# 6 точек и 2 кластера\n",
        "act  = [1, 1, 1, 2, 2, 2]\n",
        "# прогноз - 3 кластера\n",
        "pred = [0, 0, 1, 1, 2, 2]"
      ],
      "execution_count": 14,
      "outputs": []
    },
    {
      "cell_type": "code",
      "metadata": {
        "colab": {
          "base_uri": "https://localhost:8080/"
        },
        "id": "83k71W27JgLr",
        "outputId": "65fc2993-79f7-44c9-cb09-7d0f2b4ac304"
      },
      "source": [
        "print(contingency_matrix(act, pred))\n",
        "# результат \n",
        "# в первый истинный кластер попали 2 точки\n",
        "# во второй тоже + 2 ошибки"
      ],
      "execution_count": 15,
      "outputs": [
        {
          "output_type": "stream",
          "text": [
            "[[2 1 0]\n",
            " [0 1 2]]\n"
          ],
          "name": "stdout"
        }
      ]
    },
    {
      "cell_type": "code",
      "metadata": {
        "id": "AYURp9AxJj2r"
      },
      "source": [
        "# 4 точки и 2 кластера\n",
        "act  = [0, 0, 1, 1]\n",
        "# прогноз - 2 кластера, но с ошибкой\n",
        "pred = [0, 0, 1, 0]"
      ],
      "execution_count": 18,
      "outputs": []
    },
    {
      "cell_type": "code",
      "metadata": {
        "colab": {
          "base_uri": "https://localhost:8080/"
        },
        "id": "BR8Ien2pK7Uo",
        "outputId": "14f866ca-f48b-4ce1-d97e-264c3c24a45b"
      },
      "source": [
        "print(contingency_matrix(act, pred))\n",
        "# результат \n",
        "# в первый истинный кластер попали 2 точки\n",
        "# во второй 1 + еще одна была ошибочно отнесена к другому кластеру"
      ],
      "execution_count": 20,
      "outputs": [
        {
          "output_type": "stream",
          "text": [
            "[[2 0]\n",
            " [1 1]]\n"
          ],
          "name": "stdout"
        }
      ]
    },
    {
      "cell_type": "code",
      "metadata": {
        "id": "AWS52HZxLgnt"
      },
      "source": [
        ""
      ],
      "execution_count": null,
      "outputs": []
    },
    {
      "cell_type": "code",
      "metadata": {
        "id": "K0prG9p7K8oA"
      },
      "source": [
        ""
      ],
      "execution_count": null,
      "outputs": []
    }
  ]
}