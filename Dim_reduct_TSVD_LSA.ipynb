{
  "nbformat": 4,
  "nbformat_minor": 0,
  "metadata": {
    "colab": {
      "name": "Dim_reduct_TSVD/LSA.ipynb",
      "provenance": [],
      "collapsed_sections": [],
      "authorship_tag": "ABX9TyPIDKj3LcbTVvCkjyUkE3mG",
      "include_colab_link": true
    },
    "kernelspec": {
      "name": "python3",
      "display_name": "Python 3"
    },
    "language_info": {
      "name": "python"
    }
  },
  "cells": [
    {
      "cell_type": "markdown",
      "metadata": {
        "id": "view-in-github",
        "colab_type": "text"
      },
      "source": [
        "<a href=\"https://colab.research.google.com/github/BurovNV/MyRepo/blob/main/Dim_reduct_TSVD_LSA.ipynb\" target=\"_parent\"><img src=\"https://colab.research.google.com/assets/colab-badge.svg\" alt=\"Open In Colab\"/></a>"
      ]
    },
    {
      "cell_type": "markdown",
      "metadata": {
        "id": "6SKeV02ipwg1"
      },
      "source": [
        "Аналог PCA, но лучше работает на разреженных данных, в том числе текст в формате мешка слов."
      ]
    },
    {
      "cell_type": "code",
      "metadata": {
        "id": "s1K0d7Pips7p"
      },
      "source": [
        "# импорт\n",
        "import numpy as np\n",
        "from sklearn import datasets\n",
        "# StandardScaler не нужен - работаем с картинками\n",
        "from sklearn.preprocessing import MinMaxScaler\n",
        "from sklearn.decomposition import TruncatedSVD\n",
        "from scipy.sparse import csr_matrix\n",
        "import matplotlib.pyplot as plt\n",
        "%matplotlib inline"
      ],
      "execution_count": 5,
      "outputs": []
    },
    {
      "cell_type": "code",
      "metadata": {
        "colab": {
          "base_uri": "https://localhost:8080/"
        },
        "id": "5Fpsh2DcqVD1",
        "outputId": "3cf72fed-076e-40e7-8ba2-a133f7da94f2"
      },
      "source": [
        "# данные\n",
        "digits = datasets.load_digits()\n",
        "X = digits.data\n",
        "y = digits.target\n",
        "X.shape"
      ],
      "execution_count": 16,
      "outputs": [
        {
          "output_type": "execute_result",
          "data": {
            "text/plain": [
              "(1797, 64)"
            ]
          },
          "metadata": {
            "tags": []
          },
          "execution_count": 16
        }
      ]
    },
    {
      "cell_type": "code",
      "metadata": {
        "colab": {
          "base_uri": "https://localhost:8080/"
        },
        "id": "1xKPZn7IqXhr",
        "outputId": "ff25665a-7a85-41c2-e1e9-4ac7bde1074d"
      },
      "source": [
        "# сколько классов - всего 6\n",
        "y.max()"
      ],
      "execution_count": 17,
      "outputs": [
        {
          "output_type": "execute_result",
          "data": {
            "text/plain": [
              "9"
            ]
          },
          "metadata": {
            "tags": []
          },
          "execution_count": 17
        }
      ]
    },
    {
      "cell_type": "code",
      "metadata": {
        "id": "481yqGzaqZd8"
      },
      "source": [
        "# масштабируем данные\n",
        "scaler = MinMaxScaler()\n",
        "scaler.fit(X)\n",
        "X_std = scaler.transform(X)"
      ],
      "execution_count": 4,
      "outputs": []
    },
    {
      "cell_type": "code",
      "metadata": {
        "colab": {
          "base_uri": "https://localhost:8080/",
          "height": 179
        },
        "id": "jjKUpeOxtCti",
        "outputId": "78c3d02a-96b5-4fdf-81fd-614fc534f388"
      },
      "source": [
        "# первые 5 картинок\n",
        "plt.figure(figsize=(15, 3))\n",
        "for i in range(5):\n",
        "  plt.subplot(1, 5, i+1)\n",
        "  plt.imshow(X_std[i].reshape(-1, 8), \n",
        "             cmap=plt.cm.gray_r)\n",
        "  plt.xticks([])\n",
        "  plt.yticks([])"
      ],
      "execution_count": 19,
      "outputs": [
        {
          "output_type": "display_data",
          "data": {
            "image/png": "[encoded data removed]",
            "text/plain": [
              "<Figure size 1080x216 with 5 Axes>"
            ]
          },
          "metadata": {
            "tags": []
          }
        }
      ]
    },
    {
      "cell_type": "code",
      "metadata": {
        "id": "52EVut3iqcWz"
      },
      "source": [
        "# создаем разреженную матрицу признаков\n",
        "csr_X = csr_matrix(X_std)"
      ],
      "execution_count": 20,
      "outputs": []
    },
    {
      "cell_type": "code",
      "metadata": {
        "colab": {
          "base_uri": "https://localhost:8080/"
        },
        "id": "Bp_Cunf8snpj",
        "outputId": "2b57e190-8454-4fc5-bbc7-f484ba34ebc9"
      },
      "source": [
        "# так как нет настройки по объему дисперсии, нужно или выбирать кол-во\n",
        "# фичей для сжатия или писать функцию для автонастройки\n",
        "# сжатия по кол-ву фичей\n",
        "tsvd = TruncatedSVD(n_components=10,   # кол-во измерений\n",
        "                    n_iter=5,          # итераций прогона\n",
        "                    random_state=42)\n",
        "\n",
        "tsvd.fit(csr_X)"
      ],
      "execution_count": 32,
      "outputs": [
        {
          "output_type": "execute_result",
          "data": {
            "text/plain": [
              "TruncatedSVD(algorithm='randomized', n_components=10, n_iter=5, random_state=42,\n",
              "             tol=0.0)"
            ]
          },
          "metadata": {
            "tags": []
          },
          "execution_count": 32
        }
      ]
    },
    {
      "cell_type": "code",
      "metadata": {
        "colab": {
          "base_uri": "https://localhost:8080/"
        },
        "id": "ZPcdwV_WtudV",
        "outputId": "ed5aa6d6-259d-4688-fadb-e6ce4e0c699f"
      },
      "source": [
        "# вывод объясненной дисперсии\n",
        "tsvd.explained_variance_ratio_"
      ],
      "execution_count": 33,
      "outputs": [
        {
          "output_type": "execute_result",
          "data": {
            "text/plain": [
              "array([0.02563247, 0.19412149, 0.16204903, 0.11317505, 0.08382352,\n",
              "       0.05153749, 0.04546571, 0.03552703, 0.02869572, 0.02574399])"
            ]
          },
          "metadata": {
            "tags": []
          },
          "execution_count": 33
        }
      ]
    },
    {
      "cell_type": "code",
      "metadata": {
        "id": "A6YoN-GCumzc"
      },
      "source": [
        "# пишем функцию для настройки кол-ва фичей по дисперсии\n",
        "def select_by_variance(data,                       # данные\n",
        "                       goal_variace):              # целевая дисперсия\n",
        "  # сначала возьмем исходное кол-во фичей\n",
        "  original_n_components = data.shape[1]\n",
        "  # далее от него отнимем 1, иначе алгоритм работать не будет\n",
        "  n_components = original_n_components - 1\n",
        "  # исходная объясненная на данный момент дисперсия\n",
        "  total_variance=0.0\n",
        "  tsvd = TruncatedSVD(n_components=n_components,   # кол-во измерений\n",
        "                      n_iter=7,                    # итераций прогона\n",
        "                      random_state=42)\n",
        "  tsvd.fit(data)\n",
        "  \n",
        "  # Задать исходное количество признаков\n",
        "  n = 0\n",
        "  for exp_var in tsvd.explained_variance_ratio_:\n",
        "    total_variance += exp_var\n",
        "    n += 1\n",
        "    if total_variance >= goal_variace:\n",
        "      break\n",
        "  tsvd_ = TruncatedSVD(n_components=n,             # кол-во после подгонки\n",
        "                       n_iter=7,                   # итераций прогона\n",
        "                       random_state=42)\n",
        "  data = tsvd_.fit_transform(data)                 # пережмем данные в n фичей\n",
        "  return (data, tsvd.explained_variance_ratio_[:n])"
      ],
      "execution_count": 61,
      "outputs": []
    },
    {
      "cell_type": "code",
      "metadata": {
        "id": "mlEJiomiuqEl"
      },
      "source": [
        "# вызов\n",
        "tsvd_data, exp_variance = select_by_variance(csr_X, 0.55)"
      ],
      "execution_count": 62,
      "outputs": []
    },
    {
      "cell_type": "code",
      "metadata": {
        "colab": {
          "base_uri": "https://localhost:8080/"
        },
        "id": "8zFdrWOizc4C",
        "outputId": "e87d66c0-d126-462c-f5c6-78a46d99ab23"
      },
      "source": [
        "# проверим\n",
        "tsvd_data.shape"
      ],
      "execution_count": 63,
      "outputs": [
        {
          "output_type": "execute_result",
          "data": {
            "text/plain": [
              "(1083, 5)"
            ]
          },
          "metadata": {
            "tags": []
          },
          "execution_count": 63
        }
      ]
    },
    {
      "cell_type": "code",
      "metadata": {
        "colab": {
          "base_uri": "https://localhost:8080/"
        },
        "id": "8FMprrJJzj9_",
        "outputId": "40633f41-1ec3-4015-b65a-140faa652ce7"
      },
      "source": [
        "exp_variance"
      ],
      "execution_count": 64,
      "outputs": [
        {
          "output_type": "execute_result",
          "data": {
            "text/plain": [
              "array([0.02563247, 0.19412149, 0.16204903, 0.11317505, 0.08382352])"
            ]
          },
          "metadata": {
            "tags": []
          },
          "execution_count": 64
        }
      ]
    },
    {
      "cell_type": "code",
      "metadata": {
        "colab": {
          "base_uri": "https://localhost:8080/"
        },
        "id": "pUL9hgaRz98W",
        "outputId": "95c7e42d-b66f-4f10-b719-9ed793d3e74f"
      },
      "source": [
        "exp_variance.sum()"
      ],
      "execution_count": 65,
      "outputs": [
        {
          "output_type": "execute_result",
          "data": {
            "text/plain": [
              "0.5788015665567053"
            ]
          },
          "metadata": {
            "tags": []
          },
          "execution_count": 65
        }
      ]
    },
    {
      "cell_type": "code",
      "metadata": {
        "id": "b1aDBa3i1hnm"
      },
      "source": [
        ""
      ],
      "execution_count": null,
      "outputs": []
    }
  ]
}