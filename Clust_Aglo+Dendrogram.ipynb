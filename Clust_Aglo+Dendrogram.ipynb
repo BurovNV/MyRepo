{
  "nbformat": 4,
  "nbformat_minor": 0,
  "metadata": {
    "colab": {
      "name": "Clust_Aglo+Dendrogram.ipynb",
      "provenance": [],
      "collapsed_sections": [],
      "authorship_tag": "ABX9TyMPD0K9XPGjG7itYBXUNogf",
      "include_colab_link": true
    },
    "kernelspec": {
      "name": "python3",
      "display_name": "Python 3"
    },
    "language_info": {
      "name": "python"
    }
  },
  "cells": [
    {
      "cell_type": "markdown",
      "metadata": {
        "id": "view-in-github",
        "colab_type": "text"
      },
      "source": [
        "<a href=\"https://colab.research.google.com/github/BurovNV/MyRepo/blob/main/Clust_Aglo%2BDendrogram.ipynb\" target=\"_parent\"><img src=\"https://colab.research.google.com/assets/colab-badge.svg\" alt=\"Open In Colab\"/></a>"
      ]
    },
    {
      "cell_type": "code",
      "metadata": {
        "id": "7d1TFDcQy6Wi"
      },
      "source": [
        "# импорт библиотек\n",
        "from sklearn import datasets\n",
        "from sklearn.preprocessing import StandardScaler\n",
        "from sklearn.cluster import AgglomerativeClustering\n",
        "import matplotlib.pyplot as plt\n",
        "%matplotlib inline"
      ],
      "execution_count": 3,
      "outputs": []
    },
    {
      "cell_type": "code",
      "metadata": {
        "id": "ppkWUk4RzUbH"
      },
      "source": [
        "# импорт доп библиотек для дендрограмм\n",
        "from scipy.cluster.hierarchy import dendrogram, ward"
      ],
      "execution_count": 2,
      "outputs": []
    },
    {
      "cell_type": "code",
      "metadata": {
        "colab": {
          "base_uri": "https://localhost:8080/",
          "height": 265
        },
        "id": "FyUa2IHTzeyh",
        "outputId": "46ceb8aa-cb5a-4df6-ee6c-58d31d301927"
      },
      "source": [
        "# создание данных\n",
        "x, y = datasets.make_blobs(n_samples=21, random_state=42)\n",
        "plt.scatter(x[:, 0], x[:, 1], c=y);"
      ],
      "execution_count": 5,
      "outputs": [
        {
          "output_type": "display_data",
          "data": {
            "image/png": "[encoded data removed]",
            "text/plain": [
              "<Figure size 432x288 with 1 Axes>"
            ]
          },
          "metadata": {
            "tags": [],
            "needs_background": "light"
          }
        }
      ]
    },
    {
      "cell_type": "code",
      "metadata": {
        "colab": {
          "base_uri": "https://localhost:8080/"
        },
        "id": "sWPGXrin0Zbp",
        "outputId": "c90ac0e0-4e5d-40ae-96f2-3fec39492625"
      },
      "source": [
        "# подготовка данных\n",
        "scaler = StandardScaler()\n",
        "x_std = scaler.fit_transform(x)\n",
        "x_std[:5]"
      ],
      "execution_count": 6,
      "outputs": [
        {
          "output_type": "execute_result",
          "data": {
            "text/plain": [
              "array([[-0.0845805 ,  0.91500911],\n",
              "       [-0.2311639 ,  1.28794144],\n",
              "       [-0.4898337 ,  1.1201645 ],\n",
              "       [-0.34311636,  1.25327095],\n",
              "       [ 1.22638772,  0.15316424]])"
            ]
          },
          "metadata": {
            "tags": []
          },
          "execution_count": 6
        }
      ]
    },
    {
      "cell_type": "code",
      "metadata": {
        "colab": {
          "base_uri": "https://localhost:8080/",
          "height": 289
        },
        "id": "KdED42CK0xYh",
        "outputId": "e30d9550-909a-4cc9-a144-4dbb2272bc3b"
      },
      "source": [
        "# масссив для дендрограммы\n",
        "link_array = ward(x_std)\n",
        "dendrogram(link_array)\n",
        "\n",
        "ax = plt.gca() \n",
        "bounds = ax.get_xbound() \n",
        "ax.plot(bounds, [7.0, 7.0], '--', c='k') \n",
        "ax.plot(bounds, [4, 4], '--', c='k')  \n",
        "ax.text(bounds[1], \n",
        "        7.0,\n",
        "        ' два кластера',\n",
        "        va='center',\n",
        "        fontdict={'size': 15})\n",
        "ax.text(bounds[1],\n",
        "        4,\n",
        "        ' три кластера',\n",
        "        va='center',\n",
        "        fontdict={'size': 15})\n",
        "plt.xlabel('Индекс наблюдения')\n",
        "plt.ylabel('Кластерное расстояние');"
      ],
      "execution_count": 20,
      "outputs": [
        {
          "output_type": "display_data",
          "data": {
            "image/png": "[encoded data removed]",
            "text/plain": [
              "<Figure size 432x288 with 1 Axes>"
            ]
          },
          "metadata": {
            "tags": [],
            "needs_background": "light"
          }
        }
      ]
    },
    {
      "cell_type": "code",
      "metadata": {
        "colab": {
          "base_uri": "https://localhost:8080/"
        },
        "id": "HqePq2Sg01_h",
        "outputId": "ac855bcf-80b3-428f-8c48-71ccc387cb22"
      },
      "source": [
        "# получив результат в 3 кластера обучим модель\n",
        "cluster = AgglomerativeClustering(n_clusters=3)\n",
        "model = cluster.fit(x_std)\n",
        "model.labels_[:5]"
      ],
      "execution_count": 21,
      "outputs": [
        {
          "output_type": "execute_result",
          "data": {
            "text/plain": [
              "array([0, 0, 0, 0, 2])"
            ]
          },
          "metadata": {
            "tags": []
          },
          "execution_count": 21
        }
      ]
    },
    {
      "cell_type": "code",
      "metadata": {
        "id": "fQ7rshO22m5x"
      },
      "source": [
        ""
      ],
      "execution_count": null,
      "outputs": []
    }
  ]
}