{
  "nbformat": 4,
  "nbformat_minor": 0,
  "metadata": {
    "colab": {
      "name": "Clust_k-Means.ipynb",
      "provenance": [],
      "collapsed_sections": [],
      "authorship_tag": "ABX9TyOl5KrKYpoxlgfI++8+jfYe",
      "include_colab_link": true
    },
    "kernelspec": {
      "name": "python3",
      "display_name": "Python 3"
    },
    "language_info": {
      "name": "python"
    }
  },
  "cells": [
    {
      "cell_type": "markdown",
      "metadata": {
        "id": "view-in-github",
        "colab_type": "text"
      },
      "source": [
        "<a href=\"https://colab.research.google.com/github/BurovNV/MyRepo/blob/main/Clust_k_Means.ipynb\" target=\"_parent\"><img src=\"https://colab.research.google.com/assets/colab-badge.svg\" alt=\"Open In Colab\"/></a>"
      ]
    },
    {
      "cell_type": "code",
      "metadata": {
        "id": "JXj1RbF7_3QR"
      },
      "source": [
        "# импорт библиотек\n",
        "from sklearn import datasets\n",
        "from sklearn.preprocessing import StandardScaler\n",
        "from sklearn.cluster import KMeans"
      ],
      "execution_count": 2,
      "outputs": []
    },
    {
      "cell_type": "code",
      "metadata": {
        "id": "gPuaS4ySQIp0"
      },
      "source": [
        "# загрузка данных, столбец target не грузим!\n",
        "iris = datasets.load_iris()\n",
        "data = iris.data"
      ],
      "execution_count": 12,
      "outputs": []
    },
    {
      "cell_type": "code",
      "metadata": {
        "colab": {
          "base_uri": "https://localhost:8080/"
        },
        "id": "ZY1zJDhLQhlW",
        "outputId": "2911e922-de8c-4155-8e7d-7e3d95526536"
      },
      "source": [
        "# размер фрейма\n",
        "data.shape"
      ],
      "execution_count": 13,
      "outputs": [
        {
          "output_type": "execute_result",
          "data": {
            "text/plain": [
              "(150, 4)"
            ]
          },
          "metadata": {
            "tags": []
          },
          "execution_count": 13
        }
      ]
    },
    {
      "cell_type": "code",
      "metadata": {
        "colab": {
          "base_uri": "https://localhost:8080/"
        },
        "id": "ZwbcRe_lQr3F",
        "outputId": "67089355-a695-406c-bce1-ba8612533f4d"
      },
      "source": [
        "# проверим что загружено\n",
        "data[:5]"
      ],
      "execution_count": 14,
      "outputs": [
        {
          "output_type": "execute_result",
          "data": {
            "text/plain": [
              "array([[5.1, 3.5, 1.4, 0.2],\n",
              "       [4.9, 3. , 1.4, 0.2],\n",
              "       [4.7, 3.2, 1.3, 0.2],\n",
              "       [4.6, 3.1, 1.5, 0.2],\n",
              "       [5. , 3.6, 1.4, 0.2]])"
            ]
          },
          "metadata": {
            "tags": []
          },
          "execution_count": 14
        }
      ]
    },
    {
      "cell_type": "code",
      "metadata": {
        "colab": {
          "base_uri": "https://localhost:8080/"
        },
        "id": "9VVP_FxfQkQV",
        "outputId": "194f2016-8709-4d97-a02f-cdf7830ec1de"
      },
      "source": [
        "# стандартизация признаков со средним 0 и std 1\n",
        "scaler = StandardScaler()\n",
        "data_std = scaler.fit_transform(data)\n",
        "data_std[:5]"
      ],
      "execution_count": 16,
      "outputs": [
        {
          "output_type": "execute_result",
          "data": {
            "text/plain": [
              "array([[-0.90068117,  1.01900435, -1.34022653, -1.3154443 ],\n",
              "       [-1.14301691, -0.13197948, -1.34022653, -1.3154443 ],\n",
              "       [-1.38535265,  0.32841405, -1.39706395, -1.3154443 ],\n",
              "       [-1.50652052,  0.09821729, -1.2833891 , -1.3154443 ],\n",
              "       [-1.02184904,  1.24920112, -1.34022653, -1.3154443 ]])"
            ]
          },
          "metadata": {
            "tags": []
          },
          "execution_count": 16
        }
      ]
    },
    {
      "cell_type": "code",
      "metadata": {
        "id": "CQvcl88nRCQ0"
      },
      "source": [
        "# создание экземпляра кластеризатора\n",
        "cluster = KMeans(n_clusters=3,     # 3 кластера\n",
        "                init='k-means++',  # улучшенный алгоритм\n",
        "                random_state=42,   # зерно\n",
        "                n_jobs=-1)         # кол-во ядер процессора"
      ],
      "execution_count": 17,
      "outputs": []
    },
    {
      "cell_type": "code",
      "metadata": {
        "id": "ZnE5zhS5S-1F"
      },
      "source": [
        "# обучение модели\n",
        "model = cluster.fit(data_std)"
      ],
      "execution_count": 18,
      "outputs": []
    },
    {
      "cell_type": "code",
      "metadata": {
        "colab": {
          "base_uri": "https://localhost:8080/"
        },
        "id": "VY-k7-E2Smjc",
        "outputId": "0305a1d2-7f6b-4792-b5f9-246e9eb92cf6"
      },
      "source": [
        "# вывод меток после кластеризации\n",
        "model.labels_[:5]"
      ],
      "execution_count": 19,
      "outputs": [
        {
          "output_type": "execute_result",
          "data": {
            "text/plain": [
              "array([0, 0, 0, 0, 0], dtype=int32)"
            ]
          },
          "metadata": {
            "tags": []
          },
          "execution_count": 19
        }
      ]
    },
    {
      "cell_type": "code",
      "metadata": {
        "colab": {
          "base_uri": "https://localhost:8080/"
        },
        "id": "8K6oCGiTWQiZ",
        "outputId": "f92f7ce5-d545-4baa-b0c1-c7d04d1b14aa"
      },
      "source": [
        "# вывод центров кластеров - три точки в 4-х мерном пространстве\n",
        "model.cluster_centers_[:5]"
      ],
      "execution_count": 26,
      "outputs": [
        {
          "output_type": "execute_result",
          "data": {
            "text/plain": [
              "array([[-0.07738059, -0.94172705,  0.31908274,  0.2450768 ],\n",
              "       [-1.01658087,  0.82939784, -1.3054239 , -1.26568479],\n",
              "       [ 1.0893694 ,  0.07514201,  0.99676647,  1.02341162]])"
            ]
          },
          "metadata": {
            "tags": []
          },
          "execution_count": 26
        }
      ]
    },
    {
      "cell_type": "markdown",
      "metadata": {
        "id": "3c4-IxtDTmep"
      },
      "source": [
        "Класс  MiniBatchKMeans работает  аналогично  классу  KMeans, но  с  одним  существен­\n",
        "ным отличием:  это параметр размера пакета batch size. Параметр batch size управ­\n",
        "ляет количеством случайно отбираемых наблюдений в каждом пакете. Чем больше \n",
        "размер пакета, тем более дорогостоящим является тренировочный процесс."
      ]
    },
    {
      "cell_type": "code",
      "metadata": {
        "id": "VnZPCTh3TJoc"
      },
      "source": [
        "# импорт класса\n",
        "from sklearn.cluster import MiniBatchKMeans"
      ],
      "execution_count": 20,
      "outputs": []
    },
    {
      "cell_type": "code",
      "metadata": {
        "id": "LT1Y_t-YT7w8"
      },
      "source": [
        "cluster = MiniBatchKMeans(n_clusters=3,      # 3 кластера\n",
        "                          init='k-means++',  # улучшенный алгоритм\n",
        "                          random_state=42,   # зерно\n",
        "                          batch_size=100)    # размер пакета"
      ],
      "execution_count": 22,
      "outputs": []
    },
    {
      "cell_type": "code",
      "metadata": {
        "id": "H5wXFnVvURs0"
      },
      "source": [
        "# далее как обычно\n",
        "model = cluster.fit(data_std)"
      ],
      "execution_count": 23,
      "outputs": []
    },
    {
      "cell_type": "code",
      "metadata": {
        "colab": {
          "base_uri": "https://localhost:8080/"
        },
        "id": "Krtsai6AUfUE",
        "outputId": "f0fb906a-f349-47ed-b793-9ebc3ac4edc5"
      },
      "source": [
        "# результаты\n",
        "model.labels_[:5]"
      ],
      "execution_count": 24,
      "outputs": [
        {
          "output_type": "execute_result",
          "data": {
            "text/plain": [
              "array([1, 1, 1, 1, 1], dtype=int32)"
            ]
          },
          "metadata": {
            "tags": []
          },
          "execution_count": 24
        }
      ]
    },
    {
      "cell_type": "code",
      "metadata": {
        "id": "Dr4bs_E2Ul4G"
      },
      "source": [
        ""
      ],
      "execution_count": null,
      "outputs": []
    }
  ]
}