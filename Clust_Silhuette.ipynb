{
  "nbformat": 4,
  "nbformat_minor": 0,
  "metadata": {
    "colab": {
      "name": "Clust_Silhuette.ipynb",
      "provenance": [],
      "collapsed_sections": [],
      "authorship_tag": "ABX9TyNDnd5XRYCi8Kz3QSYzI9qY",
      "include_colab_link": true
    },
    "kernelspec": {
      "name": "python3",
      "display_name": "Python 3"
    },
    "language_info": {
      "name": "python"
    }
  },
  "cells": [
    {
      "cell_type": "markdown",
      "metadata": {
        "id": "view-in-github",
        "colab_type": "text"
      },
      "source": [
        "<a href=\"https://colab.research.google.com/github/BurovNV/MyRepo/blob/main/Clust_Silhuette.ipynb\" target=\"_parent\"><img src=\"https://colab.research.google.com/assets/colab-badge.svg\" alt=\"Open In Colab\"/></a>"
      ]
    },
    {
      "cell_type": "markdown",
      "metadata": {
        "id": "OwKtkYEqzKDn"
      },
      "source": [
        "Показывает насколько среднее расстояние между точками одного кластера меньше среднего расстояния до точек другого кластера. \n",
        "\n",
        "Диапазон [-1, 1],\n",
        "\n",
        "* -1 все плохо\n",
        "* 0  как при рандомной кластеризации\n",
        "* 1  все хорошо "
      ]
    },
    {
      "cell_type": "code",
      "metadata": {
        "id": "llcb8dfFgY_b"
      },
      "source": [
        "# импорт библиотек\n",
        "from sklearn import datasets\n",
        "from sklearn.preprocessing import StandardScaler\n",
        "from sklearn.cluster import KMeans\n",
        "import matplotlib.pyplot as plt\n",
        "%matplotlib inline"
      ],
      "execution_count": null,
      "outputs": []
    },
    {
      "cell_type": "code",
      "metadata": {
        "id": "n82m4w0Ai1Jl"
      },
      "source": [
        "# импорт доп библиотек\n",
        "import numpy as np\n",
        "from sklearn.metrics import silhouette_samples, silhouette_score\n",
        "from matplotlib.pyplot import cm"
      ],
      "execution_count": null,
      "outputs": []
    },
    {
      "cell_type": "code",
      "metadata": {
        "colab": {
          "base_uri": "https://localhost:8080/",
          "height": 265
        },
        "id": "LBHTr8HChkmQ",
        "outputId": "9e03a470-90b7-4fe0-90f1-b26fd7b27d9e"
      },
      "source": [
        "# создание данных\n",
        "x, y = datasets.make_blobs(random_state=42)\n",
        "plt.scatter(x[:, 0], x[:, 1], c=y)\n",
        "plt.show();"
      ],
      "execution_count": null,
      "outputs": [
        {
          "output_type": "display_data",
          "data": {
            "image/png": "[encoded data removed]",
            "text/plain": [
              "<Figure size 432x288 with 1 Axes>"
            ]
          },
          "metadata": {
            "tags": [],
            "needs_background": "light"
          }
        }
      ]
    },
    {
      "cell_type": "code",
      "metadata": {
        "id": "yFDsH3E1kMKs"
      },
      "source": [
        "# функция для обучения модели\n",
        "def km(n, x):\n",
        "   km = KMeans(n_clusters=n, \n",
        "              init='k-means++', \n",
        "              n_init=10, \n",
        "              max_iter=300, \n",
        "              tol=1e-04, \n",
        "              random_state=42)\n",
        "   km = km.fit_predict(x)\n",
        "   return km"
      ],
      "execution_count": null,
      "outputs": []
    },
    {
      "cell_type": "code",
      "metadata": {
        "id": "tJgNgVGUh2Qk"
      },
      "source": [
        "# обучаем модели\n",
        "# сперва 2 кластера\n",
        "kmeans_2 = km(2, x)\n",
        "# теперь 3\n",
        "kmeans_3 = km(3, x)\n",
        "# и четыре\n",
        "kmeans_4 = km(4, x)"
      ],
      "execution_count": null,
      "outputs": []
    },
    {
      "cell_type": "code",
      "metadata": {
        "id": "k4Yr03-2mryC"
      },
      "source": [
        "# функция для отрисовки силуэтов\n",
        "def print_silh(km, title):\n",
        "  cluster_labels =  np.unique(km) \n",
        "  n_clusters = cluster_labels.shape[0] \n",
        "  silhouette_vals = silhouette_samples(x,\n",
        "                                      km, \n",
        "                                      metric='euclidean')\n",
        "\n",
        "  y_ax_lower, y_ax_upper = 0, 0\n",
        "  yticks = [] \n",
        "\n",
        "  for i, с in enumerate(cluster_labels): \n",
        "    c_silhouette_vals = silhouette_vals [km == с] \n",
        "    c_silhouette_vals.sort() \n",
        "    y_ax_upper += len(c_silhouette_vals) \n",
        "    color =  cm.jet(float(i)/ n_clusters) \n",
        "    plt.barh(range(y_ax_lower,  y_ax_upper), \n",
        "                   c_silhouette_vals, \n",
        "                   height=1.0, \n",
        "                   edgecolor='none', \n",
        "                   color=color) \n",
        "    yticks.append((y_ax_lower + y_ax_upper) / 2.) \n",
        "    y_ax_lower += len(c_silhouette_vals) \n",
        "  silhouette_avg = np.mean(silhouette_vals) \n",
        "  plt.axvline(silhouette_avg, \n",
        "              color=\"red\", \n",
        "              linestyle=\"--\") \n",
        "  plt.yticks(yticks,  cluster_labels  +  1) \n",
        "  plt.ylabel('Кластер') \n",
        "  plt.xlabel('Коэффициент силуэта')\n",
        "  plt.tight_layout()\n",
        "  plt.title(title + '\\n')\n",
        "  plt.show();"
      ],
      "execution_count": null,
      "outputs": []
    },
    {
      "cell_type": "code",
      "metadata": {
        "colab": {
          "base_uri": "https://localhost:8080/",
          "height": 328
        },
        "id": "9PQmkNl2orjZ",
        "outputId": "969682dd-b230-4d86-bc97-497a872fdbe4"
      },
      "source": [
        "# результаты для 2 кластеров\n",
        "print_silh(kmeans_2, 'kmeans_2')"
      ],
      "execution_count": null,
      "outputs": [
        {
          "output_type": "display_data",
          "data": {
            "image/png": "[encoded data removed]",
            "text/plain": [
              "<Figure size 432x288 with 1 Axes>"
            ]
          },
          "metadata": {
            "tags": [],
            "needs_background": "light"
          }
        }
      ]
    },
    {
      "cell_type": "code",
      "metadata": {
        "colab": {
          "base_uri": "https://localhost:8080/",
          "height": 328
        },
        "id": "OaeJ9NsSorf5",
        "outputId": "84827e92-9214-4c5b-e38b-f1098e1219af"
      },
      "source": [
        "# результаты для 3 кластеров - гораздо лучше\n",
        "print_silh(kmeans_3, 'kmeans_3')"
      ],
      "execution_count": null,
      "outputs": [
        {
          "output_type": "display_data",
          "data": {
            "image/png": "[encoded data removed]",
            "text/plain": [
              "<Figure size 432x288 with 1 Axes>"
            ]
          },
          "metadata": {
            "tags": [],
            "needs_background": "light"
          }
        }
      ]
    },
    {
      "cell_type": "code",
      "metadata": {
        "colab": {
          "base_uri": "https://localhost:8080/",
          "height": 328
        },
        "id": "s-kaC4VdqqmS",
        "outputId": "8f383453-b00e-4457-a519-87694de4c220"
      },
      "source": [
        "# результаты для 4 кластеров - полная ерунда\n",
        "print_silh(kmeans_4, 'kmeans_4')"
      ],
      "execution_count": null,
      "outputs": [
        {
          "output_type": "display_data",
          "data": {
            "image/png": "[encoded data removed]",
            "text/plain": [
              "<Figure size 432x288 with 1 Axes>"
            ]
          },
          "metadata": {
            "tags": [],
            "needs_background": "light"
          }
        }
      ]
    },
    {
      "cell_type": "code",
      "metadata": {
        "id": "SOOG04OOqyEb"
      },
      "source": [
        ""
      ],
      "execution_count": null,
      "outputs": []
    }
  ]
}