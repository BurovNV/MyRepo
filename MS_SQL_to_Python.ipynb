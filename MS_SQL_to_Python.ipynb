{
  "nbformat": 4,
  "nbformat_minor": 5,
  "metadata": {
    "kernelspec": {
      "display_name": "Python 3",
      "language": "python",
      "name": "python3"
    },
    "language_info": {
      "codemirror_mode": {
        "name": "ipython",
        "version": 3
      },
      "file_extension": ".py",
      "mimetype": "text/x-python",
      "name": "python",
      "nbconvert_exporter": "python",
      "pygments_lexer": "ipython3",
      "version": "3.8.8"
    },
    "colab": {
      "name": "MS SQL to Python.ipynb",
      "provenance": [],
      "include_colab_link": true
    }
  },
  "cells": [
    {
      "cell_type": "markdown",
      "metadata": {
        "id": "view-in-github",
        "colab_type": "text"
      },
      "source": [
        "<a href=\"https://colab.research.google.com/github/BurovNV/MyRepo/blob/main/MS_SQL_to_Python.ipynb\" target=\"_parent\"><img src=\"https://colab.research.google.com/assets/colab-badge.svg\" alt=\"Open In Colab\"/></a>"
      ]
    },
    {
      "cell_type": "code",
      "metadata": {
        "id": "94af860b"
      },
      "source": [
        "# импорт модуля\n",
        "import pyodbc \n",
        "\n",
        "# параметры для подключения к БД\n",
        "server     = 'HOST-HOME'           # Название сервера SQL, к которому будет выполнено \n",
        "                                   # подключение.\n",
        "dbase      = 'AdventureWorks2017'  # Имя базы данных SQL\n",
        "user       = 'GUEST'               # Имя пользователя SQL\n",
        "password   = '9205'                # Пароль пользователя SQL\n",
        "\n",
        "# само подключение\n",
        "connection = pyodbc.connect(\"DRIVER={SQL Server};\\\n",
        "                            SERVER=HOST-HOME;\\\n",
        "                            DATABASE=AdventureWorks2017;\\\n",
        "                            UID=GUEST;\\\n",
        "                            PWD=9205\")\n",
        "\n",
        "# создается курсор для соединения\n",
        "cursor = connection.cursor() \n",
        "\n",
        "# вызов курсора\n",
        "cursor.execute('SELECT TOP 100 * FROM Sales.Customer');"
      ],
      "id": "94af860b",
      "execution_count": null,
      "outputs": []
    },
    {
      "cell_type": "code",
      "metadata": {
        "id": "8579a93b"
      },
      "source": [
        "# результат\n",
        "result = cursor.fetchall()"
      ],
      "id": "8579a93b",
      "execution_count": null,
      "outputs": []
    },
    {
      "cell_type": "code",
      "metadata": {
        "id": "54ad241c",
        "outputId": "debf8043-7c43-4cf3-842b-d6ed1e69a904"
      },
      "source": [
        "# но лучше сразу читать в DF\n",
        "import pandas as pd\n",
        "\n",
        "# текст запроса\n",
        "query = 'SELECT TOP 100 * FROM Sales.Customer'\n",
        "# загрузка выведет df с названиями колонок\n",
        "df = pd.read_sql(query, connection)\n",
        "df.head(3)"
      ],
      "id": "54ad241c",
      "execution_count": null,
      "outputs": [
        {
          "output_type": "execute_result",
          "data": {
            "text/html": [
              "<div>\n",
              "<style scoped>\n",
              "    .dataframe tbody tr th:only-of-type {\n",
              "        vertical-align: middle;\n",
              "    }\n",
              "\n",
              "    .dataframe tbody tr th {\n",
              "        vertical-align: top;\n",
              "    }\n",
              "\n",
              "    .dataframe thead th {\n",
              "        text-align: right;\n",
              "    }\n",
              "</style>\n",
              "<table border=\"1\" class=\"dataframe\">\n",
              "  <thead>\n",
              "    <tr style=\"text-align: right;\">\n",
              "      <th></th>\n",
              "      <th>CustomerID</th>\n",
              "      <th>PersonID</th>\n",
              "      <th>StoreID</th>\n",
              "      <th>TerritoryID</th>\n",
              "      <th>AccountNumber</th>\n",
              "      <th>rowguid</th>\n",
              "      <th>ModifiedDate</th>\n",
              "    </tr>\n",
              "  </thead>\n",
              "  <tbody>\n",
              "    <tr>\n",
              "      <th>0</th>\n",
              "      <td>1</td>\n",
              "      <td>None</td>\n",
              "      <td>934</td>\n",
              "      <td>1</td>\n",
              "      <td>AW00000001</td>\n",
              "      <td>3F5AE95E-B87D-4AED-95B4-C3797AFCB74F</td>\n",
              "      <td>2014-09-12 11:15:07.263</td>\n",
              "    </tr>\n",
              "    <tr>\n",
              "      <th>1</th>\n",
              "      <td>2</td>\n",
              "      <td>None</td>\n",
              "      <td>1028</td>\n",
              "      <td>1</td>\n",
              "      <td>AW00000002</td>\n",
              "      <td>E552F657-A9AF-4A7D-A645-C429D6E02491</td>\n",
              "      <td>2014-09-12 11:15:07.263</td>\n",
              "    </tr>\n",
              "    <tr>\n",
              "      <th>2</th>\n",
              "      <td>3</td>\n",
              "      <td>None</td>\n",
              "      <td>642</td>\n",
              "      <td>4</td>\n",
              "      <td>AW00000003</td>\n",
              "      <td>130774B1-DB21-4EF3-98C8-C104BCD6ED6D</td>\n",
              "      <td>2014-09-12 11:15:07.263</td>\n",
              "    </tr>\n",
              "  </tbody>\n",
              "</table>\n",
              "</div>"
            ],
            "text/plain": [
              "   CustomerID PersonID  StoreID  TerritoryID AccountNumber  \\\n",
              "0           1     None      934            1    AW00000001   \n",
              "1           2     None     1028            1    AW00000002   \n",
              "2           3     None      642            4    AW00000003   \n",
              "\n",
              "                                rowguid            ModifiedDate  \n",
              "0  3F5AE95E-B87D-4AED-95B4-C3797AFCB74F 2014-09-12 11:15:07.263  \n",
              "1  E552F657-A9AF-4A7D-A645-C429D6E02491 2014-09-12 11:15:07.263  \n",
              "2  130774B1-DB21-4EF3-98C8-C104BCD6ED6D 2014-09-12 11:15:07.263  "
            ]
          },
          "metadata": {
            "tags": []
          },
          "execution_count": 27
        }
      ]
    },
    {
      "cell_type": "code",
      "metadata": {
        "id": "8febe3f4",
        "outputId": "9f7335d5-edc6-4255-886b-fdf35a2adba3"
      },
      "source": [
        "# большой запрос\n",
        "query_1 =  \"\"\"\n",
        "SELECT TOP 100\n",
        "     PC.Name AS [CAT],\n",
        "     PS.Name AS [SUB],\n",
        "     P.Name AS [PROD]\n",
        "FROM Production.ProductCategory PC\n",
        "LEFT JOIN Production.ProductSubcategory PS\n",
        "ON   PS.ProductCategoryID = PC.ProductCategoryID\n",
        "LEFT JOIN Production.Product P\n",
        "ON   PS.ProductSubcategoryID = P.ProductSubcategoryID\n",
        "LEFT JOIN Production.ProductModel M\n",
        "ON   M.ProductModelID = P.ProductModelID;\"\"\"\n",
        "\n",
        "df = pd.read_sql(query_1, connection)\n",
        "df.head(3)"
      ],
      "id": "8febe3f4",
      "execution_count": null,
      "outputs": [
        {
          "output_type": "execute_result",
          "data": {
            "text/html": [
              "<div>\n",
              "<style scoped>\n",
              "    .dataframe tbody tr th:only-of-type {\n",
              "        vertical-align: middle;\n",
              "    }\n",
              "\n",
              "    .dataframe tbody tr th {\n",
              "        vertical-align: top;\n",
              "    }\n",
              "\n",
              "    .dataframe thead th {\n",
              "        text-align: right;\n",
              "    }\n",
              "</style>\n",
              "<table border=\"1\" class=\"dataframe\">\n",
              "  <thead>\n",
              "    <tr style=\"text-align: right;\">\n",
              "      <th></th>\n",
              "      <th>CAT</th>\n",
              "      <th>SUB</th>\n",
              "      <th>PROD</th>\n",
              "    </tr>\n",
              "  </thead>\n",
              "  <tbody>\n",
              "    <tr>\n",
              "      <th>0</th>\n",
              "      <td>Components</td>\n",
              "      <td>Road Frames</td>\n",
              "      <td>HL Road Frame - Black, 58</td>\n",
              "    </tr>\n",
              "    <tr>\n",
              "      <th>1</th>\n",
              "      <td>Components</td>\n",
              "      <td>Road Frames</td>\n",
              "      <td>HL Road Frame - Red, 58</td>\n",
              "    </tr>\n",
              "    <tr>\n",
              "      <th>2</th>\n",
              "      <td>Accessories</td>\n",
              "      <td>Helmets</td>\n",
              "      <td>Sport-100 Helmet, Red</td>\n",
              "    </tr>\n",
              "  </tbody>\n",
              "</table>\n",
              "</div>"
            ],
            "text/plain": [
              "           CAT          SUB                       PROD\n",
              "0   Components  Road Frames  HL Road Frame - Black, 58\n",
              "1   Components  Road Frames    HL Road Frame - Red, 58\n",
              "2  Accessories      Helmets      Sport-100 Helmet, Red"
            ]
          },
          "metadata": {
            "tags": []
          },
          "execution_count": 29
        }
      ]
    },
    {
      "cell_type": "code",
      "metadata": {
        "id": "833eb0aa"
      },
      "source": [
        ""
      ],
      "id": "833eb0aa",
      "execution_count": null,
      "outputs": []
    },
    {
      "cell_type": "code",
      "metadata": {
        "id": "9b0b11da"
      },
      "source": [
        ""
      ],
      "id": "9b0b11da",
      "execution_count": null,
      "outputs": []
    },
    {
      "cell_type": "code",
      "metadata": {
        "id": "a9aa49af"
      },
      "source": [
        ""
      ],
      "id": "a9aa49af",
      "execution_count": null,
      "outputs": []
    }
  ]
}